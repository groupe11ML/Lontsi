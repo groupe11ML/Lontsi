{
  "cells": [
    {
      "cell_type": "markdown",
      "metadata": {
        "id": "view-in-github",
        "colab_type": "text"
      },
      "source": [
        "<a href=\"https://colab.research.google.com/github/groupe11ML/groupe11ML/blob/main/kmeansG11.ipynb\" target=\"_parent\"><img src=\"https://colab.research.google.com/assets/colab-badge.svg\" alt=\"Open In Colab\"/></a>"
      ]
    },
    {
      "cell_type": "markdown",
      "metadata": {
        "id": "CKFoEyoIm_pN"
      },
      "source": [
        "# GROUPE 11 \n",
        "# KEUFACK DONGMO BELVIANE BERENICE 19Y204\n",
        "# LEUKAM FERMAT 19Y208\n",
        "# LONTSI TIDOH MOREL 19Y082\n",
        "# TCHAMEDEU TCHAMEDEU JORDAN STEVE 19Y458"
      ]
    },
    {
      "cell_type": "markdown",
      "metadata": {
        "id": "GAOMYiQMm_pW"
      },
      "source": [
        "# K-Means Clustering From Scratch en Python [Algorithme expliqué]"
      ]
    },
    {
      "cell_type": "markdown",
      "metadata": {
        "id": "hsje7ZZbm_pX"
      },
      "source": [
        "Dans ce tutoriel , nous allons implémenter l'algorithme de clustering K-Means à partir de zéro en utilisant le module Numpy."
      ]
    },
    {
      "cell_type": "markdown",
      "metadata": {
        "id": "XLCwO5S-m_pY"
      },
      "source": [
        "Les 5 étapes de l'algorithme de clustering K-means :\n",
        "\n",
        "Étape 1. Choisissez au hasard k points de données comme centroïdes initiaux.\n",
        "\n",
        "Étape 2. Trouvez la distance (distance euclidienne pour notre objectif) entre chaque point de données de notre ensemble d'entraînement avec les k centroïdes.\n",
        "\n",
        "Étape 3. Attribuez maintenant chaque point de données au centroïde le plus proche en fonction de la distance trouvée.\n",
        "\n",
        "Étape 4. Mettez à jour l'emplacement du centroïde en prenant la moyenne des points dans chaque groupe de clusters.\n",
        "\n",
        "Étape 5. Répétez les étapes 2 à 4 jusqu'à ce que nos centroïdes ne changent pas.\n",
        "\n",
        "Nous pouvons choisir la valeur optimale de K (Number of Clusters) en utilisant des méthodes comme la méthode The Elbow."
      ]
    },
    {
      "cell_type": "markdown",
      "metadata": {
        "id": "1Sy7fnT_m_pZ"
      },
      "source": [
        "Implémentation de l'algorithme de clustering K-Means\n",
        "\n",
        "Implémentons maintenant les étapes ci-dessus dans le code. "
      ]
    },
    {
      "cell_type": "code",
      "execution_count": null,
      "metadata": {
        "id": "WSwRJ1mqm_pa"
      },
      "outputs": [],
      "source": [
        "#Importer les modules requis\n",
        " \n",
        "import numpy as np\n",
        "from scipy.spatial.distance import cdist \n",
        " \n",
        "#Fonction pour mettre en œuvre les étapes indiquées dans la section précédente\n",
        "def kmeans(x,k, no_of_iterations):\n",
        "    idx = np.random.choice(len(x), k, replace=False)\n",
        "    #Choisir au hasard des centroïdes\n",
        "    centroids = x[idx, :] #Step 1\n",
        "     \n",
        "    #trouver la distance entre les centroïdes et tous les points de données\n",
        "    distances = cdist(x, centroids ,'euclidean') #Step 2\n",
        "     \n",
        "    #Centre de gravité avec la distance minimale\n",
        "    points = np.array([np.argmin(i) for i in distances]) #Step 3\n",
        "     \n",
        "    #Répéter les étapes ci-dessus pour un nombre défini d'itérations\n",
        "    #Étape 4\n",
        "    for _ in range(no_of_iterations): \n",
        "        centroids = []\n",
        "        for idx in range(k):\n",
        "            #Mise à jour des centroïdes en prenant la moyenne du cluster auquel il appartient\n",
        "            temp_cent = x[points==idx].mean(axis=0) \n",
        "            centroids.append(temp_cent)\n",
        " \n",
        "        centroids = np.vstack(centroids) #Centroïdes mis à jour\n",
        "         \n",
        "        distances = cdist(x, centroids ,'euclidean')\n",
        "        points = np.array([np.argmin(i) for i in distances])\n",
        "         \n",
        "    return points "
      ]
    },
    {
      "cell_type": "markdown",
      "metadata": {
        "id": "Tb_EOwHum_pd"
      },
      "source": [
        "La fonction ci-dessus renvoie un tableau d'étiquettes de cluster pour chaque point de données de notre ensemble d'apprentissage."
      ]
    },
    {
      "cell_type": "markdown",
      "metadata": {
        "id": "PwtiGdutm_pe"
      },
      "source": [
        "scipy.spatial.distance (calcul de distance) :Calcul de la matrice de distance à partir d'une collection de vecteurs d'observation bruts stockés dans un tableau\n",
        "\n",
        "cdist(XA, XB[, métrique, out]) :Calculer la distance entre chaque paire des deux collections d'entrées.\n",
        "\n",
        "Fonction numpy.vstack() :La fonction vstack() est utilisée pour empiler des tableaux en séquence verticalement (par ligne).\n",
        "\n",
        "numpy. argmin ( a , axis=None , out=None , * , keepdims=<no value> ) : Renvoie les indices des valeurs minimales le long d'un axe.\n"
      ]
    },
    {
      "cell_type": "markdown",
      "metadata": {
        "id": "OWpCswE5m_pf"
      },
      "source": [
        ""
      ]
    },
    {
      "cell_type": "markdown",
      "metadata": {
        "id": "VBU7hlDom_pg"
      },
      "source": [
        "Test des clusters K-Means\n",
        "Nous utiliserons le jeu de données digits (intégré au module sklearn) pour tester notre fonction.\n",
        "\n",
        "load digits est un dataset de classification de 1797 éléments, les chiffres...Chaque point de données est une image 8x8 d'un chiffre."
      ]
    },
    {
      "cell_type": "code",
      "execution_count": null,
      "metadata": {
        "id": "8nwf6Ll7m_pg"
      },
      "outputs": [],
      "source": [
        ""
      ]
    },
    {
      "cell_type": "markdown",
      "metadata": {
        "id": "t9seT__9m_ph"
      },
      "source": [
        "sklearn.decomposition.PCA  : Analyse en composantes principales (ACP).\n",
        "\n",
        "Réduction de la dimensionnalité linéaire à l'aide de la décomposition en valeurs singulières des données pour les projeter dans un espace de dimension inférieure.\n",
        "\n",
        "Paramètres:  \n",
        "\n",
        "n_components  : Nombre de composants à conserver. si n_components n'est pas défini, tous les composants sont conservés . n_components == min(n_samples, n_features)\n",
        "\n",
        "copy bool, par défaut=True\n",
        "Si False, les données transmises à fit sont écrasées et l'exécution de fit(X).transform(X) ne donnera pas les résultats attendus\n",
        "\n",
        "whiten bool, défaut=Faux\n",
        "Lorsque Vrai (Faux par défaut), les components_vecteurs sont multipliés par la racine carrée de n_échantillons, puis divisés par les valeurs singulières pour garantir des sorties non corrélées avec des variances par composante unitaire.\n",
        "\n",
        "Le blanchiment supprimera certaines informations du signal transformé (les échelles de variance relative des composants) mais peut parfois améliorer la précision prédictive des estimateurs  en faisant en sorte que leurs données respectent certaines hypothèses.\n",
        "\n",
        "svd_solver {'auto', 'full', 'arpack', 'randomized'}, default='auto'\n",
        "Si automatique :\n",
        "Le solveur est sélectionné par une politique par défaut \n",
        "\n",
        "Si plein :\n",
        "exécuter un SVD complet exact en appelant le solveur LAPACK \n",
        "\n",
        "Si arpack :\n",
        "exécuter SVD tronqué à n_components en appelant le solveur ARPACK\n",
        "\n",
        "Si aléatoire :\n",
        "exécutez une SVD randomisée \n",
        "\n",
        "tol float, par défaut=0.0\n",
        "Tolérance pour les valeurs singulières calculées par svd_solver == 'arpack'. Doit être dans la plage [0,0, infini).\n",
        "\n",
        "iterated_power int ou 'auto', default='auto'\n",
        "Nombre d'itérations pour la méthode de puissance calculée par svd_solver == 'randomized'. Doit être dans la plage [0, infini).\n",
        "\n",
        "random_state int, instance RandomState ou None, default=None\n"
      ]
    },
    {
      "cell_type": "code",
      "execution_count": null,
      "metadata": {
        "id": "YNlK0qHqm_pi",
        "outputId": "37a8c6f3-a278-4fbd-ea55-f611211f77aa"
      },
      "outputs": [
        {
          "data": {
            "image/png": "[encoded data removed]",
            "text/plain": [
              "<Figure size 432x288 with 1 Axes>"
            ]
          },
          "metadata": {
            "needs_background": "light"
          },
          "output_type": "display_data"
        }
      ],
      "source": [
        "#Loading the required modules\n",
        " \n",
        "import numpy as np\n",
        "from scipy.spatial.distance import cdist \n",
        "from sklearn.datasets import load_digits\n",
        "from sklearn.decomposition import PCA\n",
        "from sklearn.cluster import KMeans\n",
        "\"\"\"\"sklearn.cluster. KMeans ( n_clusters = 8 , * , init = 'k-means++' ,\n",
        "    n_init = 10 , max_iter = 300 ,tol = 0.0001 , verbose = 0 , \n",
        "    random_state = None , copy_x = True , algorithm = 'auto' )\"\"\"\n",
        "#regroupement KMEANS\n",
        "import matplotlib.pyplot as plt\n",
        " \n",
        "#Defining our function \n",
        "def kmeans(x,k, no_of_iterations):\n",
        "    idx = np.random.choice(len(x), k, replace=False)\n",
        "    #Choisir au hasard des centroïdes\n",
        "    centroids = x[idx, :] #etape 1\n",
        "     \n",
        "    #trouver la distance entre les centroïdes et tous les points de données\n",
        "    distances = cdist(x, centroids ,'euclidean') #Step 2\n",
        "     \n",
        "    #Centre de gravité avec la distance minimale\n",
        "    points = np.array([np.argmin(i) for i in distances]) #Step 3\n",
        "     \n",
        "    #Répéter les étapes ci-dessus pour un nombre défini d'itérations\n",
        "    #Étape 4\n",
        "    for _ in range(no_of_iterations): \n",
        "        centroids = []\n",
        "        for idx in range(k):\n",
        "            ##Mise à jour des centroïdes en prenant la moyenne du cluster auquel il appartient\n",
        "            temp_cent = x[points==idx].mean(axis=0) \n",
        "            centroids.append(temp_cent)\n",
        " \n",
        "        centroids = np.vstack(centroids) #Centroïdes mis à jour\n",
        "         \n",
        "        distances = cdist(x, centroids ,'euclidean')\n",
        "        points = np.array([np.argmin(i) for i in distances])\n",
        "         \n",
        "    return points \n",
        " \n",
        " \n",
        "#Charger les données\n",
        "data = load_digits().data\n",
        "pca = PCA(2)\n",
        "  \n",
        "#Transform the data\n",
        "df = pca.fit_transform(data)\n",
        " \n",
        "#Applying our function\n",
        "label = kmeans(df,10,1000)\n",
        " \n",
        "#Visualize the results\n",
        " \n",
        "u_labels = np.unique(label)\n",
        "for i in u_labels:\n",
        "    plt.scatter(df[label == i , 0] , df[label == i , 1] , label = i)\n",
        "plt.legend()\n",
        "plt.show()"
      ]
    },
    {
      "cell_type": "markdown",
      "metadata": {
        "id": "AVxm0Focm_pk"
      },
      "source": [
        "# Conclusion\n",
        "Dans cet article, nous avons créé un algorithme de clustering K-Means à partir de zéro en utilisant Python. Nous avons également couvert les étapes de création de l'algorithme K-Means et enfin testé notre implémentation sur le jeu de données Digits.Nous avons regroupé les clusters des chiffres entre eux"
      ]
    },
    {
      "cell_type": "code",
      "execution_count": null,
      "metadata": {
        "id": "100n1W1nm_pk"
      },
      "outputs": [],
      "source": [
        ""
      ]
    }
  ],
  "metadata": {
    "kernelspec": {
      "display_name": "Python 3",
      "language": "python",
      "name": "python3"
    },
    "language_info": {
      "codemirror_mode": {
        "name": "ipython",
        "version": 3
      },
      "file_extension": ".py",
      "mimetype": "text/x-python",
      "name": "python",
      "nbconvert_exporter": "python",
      "pygments_lexer": "ipython3",
      "version": "3.7.6"
    },
    "colab": {
      "name": "kmeansG11.ipynb",
      "provenance": [],
      "include_colab_link": true
    }
  },
  "nbformat": 4,
  "nbformat_minor": 0
}