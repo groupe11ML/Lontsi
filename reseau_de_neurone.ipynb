{
  "cells": [
    {
      "cell_type": "markdown",
      "metadata": {
        "id": "view-in-github",
        "colab_type": "text"
      },
      "source": [
        "<a href=\"https://colab.research.google.com/github/groupe11ML/groupe11ML/blob/main/reseau_de_neurone.ipynb\" target=\"_parent\"><img src=\"https://colab.research.google.com/assets/colab-badge.svg\" alt=\"Open In Colab\"/></a>"
      ]
    },
    {
      "cell_type": "markdown",
      "source": [
        "#GROUPE 11\n",
        "#KEUFACK DONGMO BELVIANE BERENICE 19Y204\n",
        "#LEUKAM FERMAT 19Y208\n",
        "#LONTSI TIDOH MOREL 19Y082\n",
        "#TCHAMEDEU TCHAMEDEU JORDAN STEVE 19Y458"
      ],
      "metadata": {
        "id": "Z0ZOVX0fHFA9"
      }
    },
    {
      "cell_type": "markdown",
      "metadata": {
        "id": "HUesyluvHADZ"
      },
      "source": [
        "# reseau de neurones\n",
        "\n",
        "1) importations des bibliotheques"
      ]
    },
    {
      "cell_type": "markdown",
      "source": [
        ""
      ],
      "metadata": {
        "id": "84pVnm9RHB8_"
      }
    },
    {
      "cell_type": "code",
      "execution_count": null,
      "metadata": {
        "id": "t-Dd9pI2HADg"
      },
      "outputs": [],
      "source": [
        "import os\n",
        "import numpy as np\n",
        "import pandas as pd\n",
        "from scipy.misc import imread\n",
        "from sklearn.metrics import precision_score\n",
        "\n",
        "import tensorflow as tf\n",
        "import keras"
      ]
    },
    {
      "cell_type": "markdown",
      "metadata": {
        "id": "umzSWz9mHADi"
      },
      "source": [
        "  2) fixons une valeur de depart pour controler le caractère aléatoire de nos modèles"
      ]
    },
    {
      "cell_type": "code",
      "execution_count": null,
      "metadata": {
        "id": "-yYcfY41HADj"
      },
      "outputs": [],
      "source": [
        "seed=128\n",
        "rng=np.random.randomstate(seed)"
      ]
    },
    {
      "cell_type": "markdown",
      "metadata": {
        "id": "xGh61l9aHADk"
      },
      "source": [
        "# chemin d'accès aux repertoires"
      ]
    },
    {
      "cell_type": "code",
      "execution_count": null,
      "metadata": {
        "id": "PklaaxZFHADk"
      },
      "outputs": [],
      "source": [
        "root_dir = os.path.abspath('../..') data_dir = os.path.join(root_dir, 'data') sub_dir = os.path.join(root_dir, 'sub') # check for existence os.path.exists(root_dir) os.path.exists(data_dir) os.path.exists(sub_dir)"
      ]
    },
    {
      "cell_type": "markdown",
      "metadata": {
        "id": "QvZUIrZGHADl"
      },
      "source": [
        "# chargement et pretraitement des donnees"
      ]
    },
    {
      "cell_type": "code",
      "execution_count": null,
      "metadata": {
        "id": "BwZYS2KiHADm"
      },
      "outputs": [],
      "source": [
        "train = pd.read_csv(os.path.join(data_dir, 'Train', 'train.csv'))\n",
        "test = pd.read_csv(os.path.join(data_dir, 'Test.csv'))\n",
        "\n",
        "sample_submission = pd.read_csv(os.path.join(data_dir, 'Sample_Submission.csv'))\n",
        "\n",
        "train.head()"
      ]
    },
    {
      "cell_type": "markdown",
      "metadata": {
        "id": "pCutiW1MHADn"
      },
      "source": [
        "# comprehention des donnes"
      ]
    },
    {
      "cell_type": "code",
      "execution_count": null,
      "metadata": {
        "id": "-sESvghVHADo"
      },
      "outputs": [],
      "source": [
        "img_name = rng.choice(train.filename)\n",
        "filepath = os.path.join(data_dir, 'Train', 'Images', 'train', img_name)\n",
        "\n",
        "img = imread(filepath, flatten=True)\n",
        "\n",
        "pylab.imshow(img, cmap='gray')\n",
        "pylab.axis('off')\n",
        "pylab.show()"
      ]
    },
    {
      "cell_type": "markdown",
      "metadata": {
        "id": "3erSCD77HADp"
      },
      "source": [
        "cette image peut etre vu sous forme de tableau numpy comme "
      ]
    },
    {
      "cell_type": "code",
      "execution_count": null,
      "metadata": {
        "id": "SGLnbm2rHADq"
      },
      "outputs": [],
      "source": [
        "d) For easier data manipulation, let’s store all our images as numpy arrays\n",
        "\n",
        "temp = []\n",
        "for img_name in train.filename:\n",
        "    image_path = os.path.join(data_dir, 'Train', 'Images', 'train', img_name)\n",
        "    img = imread(image_path, flatten=True)\n",
        "    img = img.astype('float32')\n",
        "    temp.append(img)\n",
        "    \n",
        "train_x = np.stack(temp)\n",
        "\n",
        "train_x /= 255.0\n",
        "train_x = train_x.reshape(-1, 784).astype('float32')\n",
        "\n",
        "temp = []\n",
        "for img_name in test.filename:\n",
        "    image_path = os.path.join(data_dir, 'Train', 'Images', 'test', img_name)\n",
        "    img = imread(image_path, flatten=True)\n",
        "    img = img.astype('float32')\n",
        "    temp.append(img)\n",
        "    \n",
        "test_x = np.stack(temp)\n",
        "\n",
        "test_x /= 255.0\n",
        "test_x = test_x.reshape(-1, 784).astype('float32')"
      ]
    },
    {
      "cell_type": "code",
      "execution_count": null,
      "metadata": {
        "id": "4ooIakZ7HADr"
      },
      "outputs": [],
      "source": [
        "train.label.ix[split_size:]"
      ]
    },
    {
      "cell_type": "markdown",
      "source": [
        "entrainement du modèle"
      ],
      "metadata": {
        "id": "A8h-7VKbHTBP"
      }
    },
    {
      "cell_type": "code",
      "execution_count": null,
      "metadata": {
        "id": "Tg3wGca4HADs"
      },
      "outputs": [],
      "source": [
        "# define vars\n",
        "input_num_units = 784\n",
        "hidden_num_units = 50\n",
        "output_num_units = 10\n",
        "\n",
        "epochs = 5\n",
        "batch_size = 128\n",
        "\n",
        "# import keras modules\n",
        "\n",
        "from keras.models import Sequential\n",
        "from keras.layers import Dense\n",
        "\n",
        "# create model\n",
        "model = Sequential([\n",
        "  Dense(output_dim=hidden_num_units, input_dim=input_num_units, activation='relu'),\n",
        "  Dense(output_dim=output_num_units, input_dim=hidden_num_units, activation='softmax'),\n",
        "])\n",
        "\n",
        "# compile the model with necessary attributes\n",
        "model.compile(loss='categorical_crossentropy', optimizer='adam', metrics=['accuracy'])"
      ]
    },
    {
      "cell_type": "code",
      "execution_count": null,
      "metadata": {
        "id": "MmrCK6H7HADs"
      },
      "outputs": [],
      "source": [
        "trained_model = model.fit(train_x, train_y, nb_epoch=epochs, batch_size=batch_size, validation_data=(val_x, val_y))"
      ]
    },
    {
      "cell_type": "markdown",
      "source": [
        "affichage de prédiction"
      ],
      "metadata": {
        "id": "J-50lghEHOFZ"
      }
    },
    {
      "cell_type": "code",
      "execution_count": null,
      "metadata": {
        "id": "_2Wvu0cSHADt"
      },
      "outputs": [],
      "source": [
        "pred = model.predict_classes(test_x)\n",
        "\n",
        "img_name = rng.choice(test.filename)\n",
        "filepath = os.path.join(data_dir, 'Train', 'Images', 'test', img_name)\n",
        "\n",
        "img = imread(filepath, flatten=True)\n",
        "\n",
        "test_index = int(img_name.split('.')[0]) - train.shape[0]\n",
        "\n",
        "print \"Prediction is: \", pred[test_index]\n",
        "\n",
        "pylab.imshow(img, cmap='gray')\n",
        "pylab.axis('off')\n",
        "pylab.show()\n",
        "\n",
        "Prediction is:  8\n",
        "8"
      ]
    },
    {
      "cell_type": "code",
      "execution_count": null,
      "metadata": {
        "id": "UAaxFYfBHADt"
      },
      "outputs": [],
      "source": [
        "sample_submission.filename = test.filename; sample_submission.label = pred\n",
        "sample_submission.to_csv(os.path.join(sub_dir, 'sub02.csv'), index=False)"
      ]
    },
    {
      "cell_type": "code",
      "execution_count": null,
      "metadata": {
        "id": "9QXRv_2rHADu"
      },
      "outputs": [],
      "source": [
        "import os\n",
        "import numpy as np\n",
        "import pandas as pd\n",
        "from scipy.misc import imread\n",
        "from sklearn.metrics import accuracy_score\n",
        "import tensorflow as tf\n",
        "import keras\n",
        "\n",
        "from keras.models import Sequential\n",
        "from keras.layers import Dense, Activation, Dropout, Convolution2D, Flatten, MaxPooling2D, Reshape, InputLayer"
      ]
    },
    {
      "cell_type": "code",
      "execution_count": null,
      "metadata": {
        "id": "XUeH9LQ8HADu"
      },
      "outputs": [],
      "source": [
        "seed = 128\n",
        "rng = np.random.RandomState(seed)"
      ]
    },
    {
      "cell_type": "code",
      "execution_count": null,
      "metadata": {
        "id": "qTpkE53KHADv"
      },
      "outputs": [],
      "source": [
        "root_dir = os.path.abspath('../..')\n",
        "data_dir = os.path.join(root_dir, 'data')\n",
        "sub_dir = os.path.join(root_dir, 'sub')\n",
        "\n",
        "# check for existence\n",
        "os.path.exists(root_dir)\n",
        "os.path.exists(data_dir)\n",
        "os.path.exists(sub_dir)"
      ]
    },
    {
      "cell_type": "code",
      "execution_count": null,
      "metadata": {
        "id": "29Lkg1VEHADv"
      },
      "outputs": [],
      "source": [
        "train = pd.read_csv(os.path.join(data_dir, 'Train', 'train.csv'))\n",
        "test = pd.read_csv(os.path.join(data_dir, 'Test.csv'))\n",
        "\n",
        "sample_submission = pd.read_csv(os.path.join(data_dir, 'Sample_Submission.csv'))\n",
        "\n",
        "temp = []\n",
        "for img_name in train.filename:\n",
        "  image_path = os.path.join(data_dir, 'Train', 'Images', 'train', img_name)\n",
        "  img = imread(image_path, flatten=True)\n",
        "  img = img.astype('float32')\n",
        "  temp.append(img)\n",
        "\n",
        "train_x = np.stack(temp)\n",
        "\n",
        "train_x /= 255.0\n",
        "train_x = train_x.reshape(-1, 784).astype('float32')\n",
        "\n",
        "temp = []\n",
        "for img_name in test.filename:\n",
        "  image_path = os.path.join(data_dir, 'Train', 'Images', 'test', img_name)\n",
        "  img = imread(image_path, flatten=True)\n",
        "  img = img.astype('float32')\n",
        "  temp.append(img)\n",
        "\n",
        "test_x = np.stack(temp)\n",
        "\n",
        "test_x /= 255.0\n",
        "test_x = test_x.reshape(-1, 784).astype('float32')\n",
        "\n",
        "train_y = keras.utils.np_utils.to_categorical(train.label.values)"
      ]
    },
    {
      "cell_type": "code",
      "execution_count": null,
      "metadata": {
        "id": "mMkhZP_RHADw"
      },
      "outputs": [],
      "source": [
        "split_size = int(train_x.shape[0]*0.7)\n",
        "\n",
        "train_x, val_x = train_x[:split_size], train_x[split_size:]\n",
        "train_y, val_y = train_y[:split_size], train_y[split_size:]"
      ]
    },
    {
      "cell_type": "code",
      "execution_count": null,
      "metadata": {
        "id": "z3kUqo-iHADw"
      },
      "outputs": [],
      "source": [
        "# define vars\n",
        "input_num_units = 784\n",
        "hidden_num_units = 500\n",
        "output_num_units = 10\n",
        "epochs = 5\n",
        "batch_size = 128\n",
        "\n",
        "model = Sequential([\n",
        " Dense(output_dim=hidden_num_units, input_dim=input_num_units, activation='relu'),\n",
        "\n",
        " Dense(output_dim=output_num_units, input_dim=hidden_num_units, activation='softmax'),\n",
        "])"
      ]
    },
    {
      "cell_type": "code",
      "execution_count": null,
      "metadata": {
        "id": "bwzCSBgTHADw"
      },
      "outputs": [],
      "source": [
        "model.compile(loss='categorical_crossentropy', optimizer='adam', metrics=['accuracy'])\n",
        "\n",
        "trained_model_500 = model.fit(train_x, train_y, nb_epoch=epochs, batch_size=batch_size, validation_data=(val_x, val_y))"
      ]
    },
    {
      "cell_type": "code",
      "execution_count": null,
      "metadata": {
        "id": "XdSDabGjHADx"
      },
      "outputs": [],
      "source": [
        "# define vars\n",
        "input_num_units = 784\n",
        "hidden1_num_units = 50\n",
        "hidden2_num_units = 50\n",
        "hidden3_num_units = 50\n",
        "hidden4_num_units = 50\n",
        "hidden5_num_units = 50\n",
        "output_num_units = 10\n",
        "\n",
        "epochs = 5\n",
        "batch_size = 128\n",
        "\n",
        "model = Sequential([\n",
        " Dense(output_dim=hidden1_num_units, input_dim=input_num_units, activation='relu'),\n",
        " Dense(output_dim=hidden2_num_units, input_dim=hidden1_num_units, activation='relu'),\n",
        " Dense(output_dim=hidden3_num_units, input_dim=hidden2_num_units, activation='relu'),\n",
        " Dense(output_dim=hidden4_num_units, input_dim=hidden3_num_units, activation='relu'),\n",
        " Dense(output_dim=hidden5_num_units, input_dim=hidden4_num_units, activation='relu'),\n",
        "\n",
        "Dense(output_dim=output_num_units, input_dim=hidden5_num_units, activation='softmax'),\n",
        " ])"
      ]
    },
    {
      "cell_type": "code",
      "execution_count": null,
      "metadata": {
        "id": "Mh1nlOqHHADx"
      },
      "outputs": [],
      "source": [
        "model.compile(loss='categorical_crossentropy', optimizer='adam', metrics=['accuracy'])\n",
        "\n",
        "trained_model_5d = model.fit(train_x, train_y, nb_epoch=epochs, batch_size=batch_size, validation_data=(val_x, val_y))\n"
      ]
    },
    {
      "cell_type": "code",
      "execution_count": null,
      "metadata": {
        "id": "i7c1ntE1HADx"
      },
      "outputs": [],
      "source": [
        "efine vars\n",
        "input_num_units = 784\n",
        "hidden1_num_units = 50\n",
        "hidden2_num_units = 50\n",
        "hidden3_num_units = 50\n",
        "hidden4_num_units = 50\n",
        "hidden5_num_units = 50\n",
        "output_num_units = 10\n",
        "\n",
        "epochs = 5\n",
        "batch_size = 128\n",
        "\n",
        "dropout_ratio = 0.2\n",
        "\n",
        "model = Sequential([\n",
        " Dense(output_dim=hidden1_num_units, input_dim=input_num_units, activation='relu'),\n",
        " Dropout(dropout_ratio),\n",
        " Dense(output_dim=hidden2_num_units, input_dim=hidden1_num_units, activation='relu'),\n",
        " Dropout(dropout_ratio),\n",
        " Dense(output_dim=hidden3_num_units, input_dim=hidden2_num_units, activation='relu'),\n",
        " Dropout(dropout_ratio),\n",
        " Dense(output_dim=hidden4_num_units, input_dim=hidden3_num_units, activation='relu'),\n",
        " Dropout(dropout_ratio),\n",
        " Dense(output_dim=hidden5_num_units, input_dim=hidden4_num_units, activation='relu'),\n",
        " Dropout(dropout_ratio),\n",
        "\n",
        "Dense(output_dim=output_num_units, input_dim=hidden5_num_units, activation='softmax'),\n",
        " ])"
      ]
    },
    {
      "cell_type": "code",
      "execution_count": null,
      "metadata": {
        "id": "vEyttcFkHADx"
      },
      "outputs": [],
      "source": [
        "model.compile(loss='categorical_crossentropy', optimizer='adam', metrics=['accuracy'])\n",
        "\n",
        "trained_model_5d_with_drop = model.fit(train_x, train_y, nb_epoch=epochs, batch_size=batch_size, validation_data=(val_x, val_y))"
      ]
    },
    {
      "cell_type": "code",
      "execution_count": null,
      "metadata": {
        "id": "B9yvPjt7HADy"
      },
      "outputs": [],
      "source": [
        "# define vars\n",
        "input_num_units = 784\n",
        "hidden1_num_units = 50\n",
        "hidden2_num_units = 50\n",
        "hidden3_num_units = 50\n",
        "hidden4_num_units = 50\n",
        "hidden5_num_units = 50\n",
        "output_num_units = 10\n",
        "\n",
        "epochs = 50\n",
        "batch_size = 128\n",
        "model = Sequential([\n",
        " Dense(output_dim=hidden1_num_units, input_dim=input_num_units, activation='relu'),\n",
        " Dropout(0.2),\n",
        " Dense(output_dim=hidden2_num_units, input_dim=hidden1_num_units, activation='relu'),\n",
        " Dropout(0.2),\n",
        " Dense(output_dim=hidden3_num_units, input_dim=hidden2_num_units, activation='relu'),\n",
        " Dropout(0.2),\n",
        " Dense(output_dim=hidden4_num_units, input_dim=hidden3_num_units, activation='relu'),\n",
        " Dropout(0.2),\n",
        " Dense(output_dim=hidden5_num_units, input_dim=hidden4_num_units, activation='relu'),\n",
        " Dropout(0.2),\n",
        "\n",
        "Dense(output_dim=output_num_units, input_dim=hidden5_num_units, activation='softmax'),\n",
        "])"
      ]
    },
    {
      "cell_type": "code",
      "execution_count": null,
      "metadata": {
        "id": "AiEQ5wVvHADy"
      },
      "outputs": [],
      "source": [
        "model.compile(loss='categorical_crossentropy', optimizer='adam', metrics=['accuracy'])\n",
        "\n",
        "trained_model_5d_with_drop_more_epochs = model.fit(train_x, train_y, nb_epoch=epochs, batch_size=batch_size, validation_data=(val_x, val_y))"
      ]
    },
    {
      "cell_type": "code",
      "execution_count": null,
      "metadata": {
        "id": "kNMKn4QdHADy"
      },
      "outputs": [],
      "source": [
        "# define vars\n",
        "input_num_units = 784\n",
        "hidden1_num_units = 500\n",
        "hidden2_num_units = 500\n",
        "hidden3_num_units = 500\n",
        "hidden4_num_units = 500\n",
        "hidden5_num_units = 500\n",
        "output_num_units = 10\n",
        "\n",
        "epochs = 25\n",
        "batch_size = 128\n",
        "\n",
        "model = Sequential([\n",
        " Dense(output_dim=hidden1_num_units, input_dim=input_num_units, activation='relu'),\n",
        " Dropout(0.2),\n",
        " Dense(output_dim=hidden2_num_units, input_dim=hidden1_num_units, activation='relu'),\n",
        " Dropout(0.2),\n",
        " Dense(output_dim=hidden3_num_units, input_dim=hidden2_num_units, activation='relu'),\n",
        " Dropout(0.2),\n",
        " Dense(output_dim=hidden4_num_units, input_dim=hidden3_num_units, activation='relu'),\n",
        " Dropout(0.2),\n",
        " Dense(output_dim=hidden5_num_units, input_dim=hidden4_num_units, activation='relu'),\n",
        " Dropout(0.2),\n",
        "\n",
        "Dense(output_dim=output_num_units, input_dim=hidden5_num_units, activation='softmax'),\n",
        " ])"
      ]
    },
    {
      "cell_type": "code",
      "execution_count": null,
      "metadata": {
        "id": "L2rNxIJRHADz"
      },
      "outputs": [],
      "source": [
        "model.compile(loss='categorical_crossentropy', optimizer='adam', metrics=['accuracy'])\n",
        "\n",
        "trained_model_deep_n_wide = model.fit(train_x, train_y, nb_epoch=epochs, batch_size=batch_size, validation_data=(val_x, val_y))"
      ]
    },
    {
      "cell_type": "code",
      "execution_count": null,
      "metadata": {
        "id": "ZDdjquVmHADz"
      },
      "outputs": [],
      "source": [
        "pred = model.predict_classes(test_x)\n",
        " sample_submission.filename = test.filename; sample_submission.label = pred\n",
        " sample_submission.to_csv(os.path.join(sub_dir, 'sub03.csv'), index=False)"
      ]
    },
    {
      "cell_type": "code",
      "execution_count": null,
      "metadata": {
        "id": "-SDDeCO2HADz"
      },
      "outputs": [],
      "source": [
        "# reshape data\n",
        "\n",
        "train_x_temp = train_x.reshape(-1, 28, 28, 1)\n",
        "val_x_temp = val_x.reshape(-1, 28, 28, 1)\n",
        "\n",
        "# define vars\n",
        "input_shape = (784,)\n",
        "input_reshape = (28, 28, 1)\n",
        "\n",
        "conv_num_filters = 5\n",
        "conv_filter_size = 5\n",
        "\n",
        "pool_size = (2, 2)\n",
        "\n",
        "hidden_num_units = 50\n",
        "output_num_units = 10\n",
        "\n",
        "epochs = 5\n",
        "batch_size = 128\n",
        "\n",
        "model = Sequential([\n",
        " InputLayer(input_shape=input_reshape),\n",
        "\n",
        " Convolution2D(25, 5, 5, activation='relu'),\n",
        " MaxPooling2D(pool_size=pool_size),\n",
        "\n",
        " Convolution2D(25, 5, 5, activation='relu'),\n",
        " MaxPooling2D(pool_size=pool_size),\n",
        "\n",
        " Convolution2D(25, 4, 4, activation='relu'),\n",
        "\n",
        " Flatten(),\n",
        "\n",
        " Dense(output_dim=hidden_num_units, activation='relu'),\n",
        "\n",
        " Dense(output_dim=output_num_units, input_dim=hidden_num_units, activation='softmax'),\n",
        "])\n",
        "\n",
        "model.compile(loss='categorical_crossentropy', optimizer='adam', metrics=['accuracy'])\n",
        "\n",
        "trained_model_conv = model.fit(train_x_temp, train_y, nb_epoch=epochs, batch_size=batch_size, validation_data=(val_x_temp, val_y))"
      ]
    },
    {
      "cell_type": "code",
      "execution_count": null,
      "metadata": {
        "id": "Pur-Ks4cHAD0"
      },
      "outputs": [],
      "source": [
        ""
      ]
    }
  ],
  "metadata": {
    "kernelspec": {
      "display_name": "Python 3",
      "language": "python",
      "name": "python3"
    },
    "language_info": {
      "codemirror_mode": {
        "name": "ipython",
        "version": 3
      },
      "file_extension": ".py",
      "mimetype": "text/x-python",
      "name": "python",
      "nbconvert_exporter": "python",
      "pygments_lexer": "ipython3",
      "version": "3.7.6"
    },
    "colab": {
      "name": "reseau_de_neurone.ipynb",
      "provenance": [],
      "collapsed_sections": [],
      "include_colab_link": true
    }
  },
  "nbformat": 4,
  "nbformat_minor": 0
}